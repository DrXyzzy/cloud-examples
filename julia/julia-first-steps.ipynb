{
 "cells": [
  {
   "cell_type": "markdown",
   "metadata": {
    "collapsed": false
   },
   "source": [
    "# Julia – a modern approach to scientific computing\n",
    "\n",
    "![](julia-logo-325-by-225.png)\n",
    "\n",
    "https://www.julialang.org\n",
    "\n"
   ]
  },
  {
   "cell_type": "markdown",
   "metadata": {
    "collapsed": false
   },
   "source": [
    "Evaluate the following cell by selecting it and then hit Shift+Return. Watch the top right status indicator of the Jupyter Notebook kernel to have started up Julia. The result will appear below."
   ]
  },
  {
   "cell_type": "code",
   "execution_count": 2,
   "metadata": {
    "collapsed": false
   },
   "outputs": [
    {
     "data": {
      "text/plain": [
       "2"
      ]
     },
     "execution_count": 2,
     "metadata": {
     },
     "output_type": "execute_result"
    }
   ],
   "source": [
    "1 + 1"
   ]
  },
  {
   "cell_type": "markdown",
   "metadata": {
    "collapsed": false
   },
   "source": [
    "Vectors and matrices have a simple syntax. Notice, that the `'` means to transpose this vector."
   ]
  },
  {
   "cell_type": "code",
   "execution_count": 3,
   "metadata": {
    "collapsed": false
   },
   "outputs": [
    {
     "data": {
      "text/plain": [
       "3×1 Array{Float64,2}:\n",
       "  1.0\n",
       "  4.4\n",
       " -9.0"
      ]
     },
     "execution_count": 3,
     "metadata": {
     },
     "output_type": "execute_result"
    }
   ],
   "source": [
    "b = [1 4.4 -9]'"
   ]
  },
  {
   "cell_type": "code",
   "execution_count": 4,
   "metadata": {
    "collapsed": false
   },
   "outputs": [
    {
     "data": {
      "text/plain": [
       "3×3 Array{Float64,2}:\n",
       "  1.0  9.0   1.0\n",
       "  0.0  1.0   0.0\n",
       " -1.1  0.0  -1.0"
      ]
     },
     "execution_count": 4,
     "metadata": {
     },
     "output_type": "execute_result"
    }
   ],
   "source": [
    "A = [  1   9   1\n",
    "       0   1   0\n",
    "    -1.1   0  -1]"
   ]
  },
  {
   "cell_type": "markdown",
   "metadata": {
    "collapsed": false
   },
   "source": [
    "… and here we solve this as a linear system of equations: $A \\cdot x = b$"
   ]
  },
  {
   "cell_type": "code",
   "execution_count": 4,
   "metadata": {
    "collapsed": false
   },
   "outputs": [
    {
     "data": {
      "text/plain": [
       "3×1 Array{Float64,2}:\n",
       "  476.0\n",
       "    4.4\n",
       " -514.6"
      ]
     },
     "execution_count": 4,
     "metadata": {
     },
     "output_type": "execute_result"
    }
   ],
   "source": [
    "x = A \\ b"
   ]
  },
  {
   "cell_type": "code",
   "execution_count": 5,
   "metadata": {
    "collapsed": false
   },
   "outputs": [
    {
     "data": {
      "text/plain": [
       "3×1 Array{Float64,2}:\n",
       "  1.0\n",
       "  4.4\n",
       " -9.0"
      ]
     },
     "execution_count": 5,
     "metadata": {
     },
     "output_type": "execute_result"
    }
   ],
   "source": [
    "A * x"
   ]
  },
  {
   "cell_type": "markdown",
   "metadata": {
    "collapsed": false
   },
   "source": [
    "## Batman Curve\n",
    "\n",
    "Transcribed from _Julia: A Fast Language for Numerical Computing_,\n",
    "by Alan Edelman,  \n",
    "[SIAM News, Volume 49 | Number 02 | March 2016](https://sinews.siam.org/Details-Page/julia-a-fast-language-for-numerical-computing-1)\n"
   ]
  },
  {
   "cell_type": "code",
   "execution_count": 0,
   "metadata": {
    "collapsed": false
   },
   "outputs": [
   ],
   "source": [
    "# Note: the first time in a project, it can take over a minute to precompile PyPlot\n",
    "using PyPlot\n",
    "function batman()\n",
    "\n",
    "    # bat functions: semicircle, ellipse, shoulders, bottom, cowl\n",
    "    # harmless Compat.UTF8String warnings from julia kernel on first run\n",
    "    σ(x) = sqrt.(1-x.^2)\n",
    "    e(x) = 3σ(x/7)\n",
    "    s(x) = 4.2 - .5x - 2.8σ(.5x-.5)\n",
    "    b(x) = σ(abs.(2-x)-1)-x.^2/11 + .5x - 3\n",
    "    c(x) = [1.7, 1.7, 2.6, .9]\n",
    "\n",
    "    # plot symmetrically across y-axis\n",
    "    p(x,f) = plot(-x,f(x), color=\"black\") , plot(x,f(x), color=\"black\")\n",
    "    p((3:.1:7),e);p(4:.1:7,t->-e(t))   # ellipse\n",
    "    p(1:.1:3,s);p(0:.1:4,b)            # shoulders and bottom\n",
    "    p([0,.5,.8,1],c)\n",
    "end\n",
    "batman();"
   ]
  },
  {
   "cell_type": "code",
   "execution_count": 0,
   "metadata": {
    "collapsed": false
   },
   "outputs": [
   ],
   "source": [
   ]
  }
 ],
 "metadata": {
  "kernelspec": {
   "display_name": "Julia",
   "language": "julia",
   "name": "julia"
  },
  "language_info": {
   "file_extension": ".jl",
   "mimetype": "application/julia",
   "name": "julia",
   "version": "0.6.2"
  }
 },
 "nbformat": 4,
 "nbformat_minor": 0
}