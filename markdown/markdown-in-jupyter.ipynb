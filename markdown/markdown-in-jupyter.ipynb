{
 "cells": [
  {
   "cell_type": "markdown",
   "metadata": {
    "collapsed": false
   },
   "source": [
    "# Markdown in Jupyter Notebooks"
   ]
  },
  {
   "cell_type": "markdown",
   "metadata": {
    "collapsed": false
   },
   "source": [
    "In order to be able to enter formatted Markdown text, select \"Markdown\" in the dropdown for the mode of the cell (it usually says \"code\")."
   ]
  },
  {
   "cell_type": "markdown",
   "metadata": {
    "collapsed": false
   },
   "source": [
    "## Quick reference\n",
    "\n",
    "### Visual look\n",
    "\n",
    "* `**bold**`: **bold** text\n",
    "* `_italic_`: _italic_\n",
    "* `~~strike~~`: ~~strike~~\n",
    "* Headers: `# Main`, `## Subheader`, `### Subsub header`, ...\n",
    "\n",
    "Explore more by selecting words and clicking on the formatting buttons of this editor.\n",
    "\n",
    "### Structure\n",
    "\n",
    "Lists:\n",
    "```\n",
    "* item1\n",
    "* item2\n",
    "```\n",
    "\n",
    "Enumeration:\n",
    "```\n",
    "1. item1\n",
    "1. item2\n",
    "```\n",
    "\n",
    "### Special elements\n",
    "\n",
    "* Links: `[name of link](http://url.it.links/to)`\n",
    "\n",
    "## Formuas\n",
    "\n",
    "It is also possible to embed formulas. They are formatted using [MathJax](https://www.mathjax.org/).\n",
    "\n",
    "Inline $x^2$ formula.\n",
    "\n",
    "\\begin{equation}\n",
    "   E = mc^2\n",
    "\\end{equation}\n",
    "\n",
    "## References\n",
    "\n",
    "* [Original description](https://daringfireball.net/projects/markdown/)"
   ]
  },
  {
   "cell_type": "code",
   "execution_count": 0,
   "metadata": {
    "collapsed": false
   },
   "outputs": [
   ],
   "source": [
   ]
  }
 ],
 "metadata": {
  "kernelspec": {
   "display_name": "Python 3 (Ubuntu Linux)",
   "language": "python",
   "name": "python3"
  },
  "language_info": {
   "codemirror_mode": {
    "name": "ipython",
    "version": 3
   },
   "file_extension": ".py",
   "mimetype": "text/x-python",
   "name": "python",
   "nbconvert_exporter": "python",
   "pygments_lexer": "ipython3",
   "version": "3.5.2"
  }
 },
 "nbformat": 4,
 "nbformat_minor": 0
}